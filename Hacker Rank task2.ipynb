{
 "cells": [
  {
   "cell_type": "markdown",
   "id": "7f3a7daa",
   "metadata": {},
   "source": [
    "#Listcomperehsion "
   ]
  },
  {
   "cell_type": "code",
   "execution_count": null,
   "id": "ac209b36",
   "metadata": {
    "ExecuteTime": {
     "end_time": "2022-03-13T20:50:11.692469Z",
     "start_time": "2022-03-13T20:50:08.920020Z"
    }
   },
   "outputs": [],
   "source": [
    "list1=[]\n",
    "list2=[]\n",
    "x=int(input())\n",
    "y=int(input())\n",
    "z=int(input())\n",
    "n=int(input())\n",
    "for i in range(x+1):\n",
    "    for j in range(y+1):\n",
    "        for k in range(z+1) :\n",
    "            list1=[i,j,k]\n",
    "            if(i+j+k!=n):\n",
    "                list2.append(list1)\n",
    "print(list2)"
   ]
  },
  {
   "cell_type": "markdown",
   "id": "45d444b7",
   "metadata": {},
   "source": [
    "#Score"
   ]
  },
  {
   "cell_type": "code",
   "execution_count": null,
   "id": "e39941d2",
   "metadata": {
    "ExecuteTime": {
     "end_time": "2022-03-14T13:49:36.129672Z",
     "start_time": "2022-03-14T13:49:27.064745Z"
    }
   },
   "outputs": [],
   "source": [
    "n=int(input())\n",
    "arr= map(int, input().split())\n",
    "set1=set(arr)\n",
    "list1=list(set1)\n",
    "print(list1[-2])"
   ]
  },
  {
   "cell_type": "code",
   "execution_count": null,
   "id": "27488686",
   "metadata": {},
   "outputs": [],
   "source": [
    "n=int(input())\n",
    "arr= map(int, input().split())\n",
    "print(sorted(list(set(arr)))[-2])"
   ]
  },
  {
   "cell_type": "markdown",
   "id": "ad845e35",
   "metadata": {},
   "source": [
    "nested-list"
   ]
  },
  {
   "cell_type": "code",
   "execution_count": null,
   "id": "6663b40a",
   "metadata": {
    "ExecuteTime": {
     "end_time": "2022-03-14T15:48:00.931777Z",
     "start_time": "2022-03-14T15:47:41.466045Z"
    }
   },
   "outputs": [],
   "source": [
    "list_score=[]\n",
    "second_low=[]\n",
    "n=int(input())\n",
    "for _ in range(n):\n",
    "    name = input()\n",
    "    score = float(input())\n",
    "    list_score.append([name,score])\n",
    "second_lowest_score=sorted(list(set([score for name,score in list_score])))\n",
    "for i in range(n):\n",
    "    if list_score[i][1] == second_lowest_score[1]:\n",
    "        second_low.append(list_score[i][1])\n",
    "print('\\n'.join(sorted([name for name, score in list_score if score in second_low])))\n",
    "\n",
    "        \n",
    "        "
   ]
  },
  {
   "cell_type": "markdown",
   "id": "8beafd1b",
   "metadata": {},
   "source": [
    "student_mean_value"
   ]
  },
  {
   "cell_type": "code",
   "execution_count": null,
   "id": "ccd9f75d",
   "metadata": {
    "ExecuteTime": {
     "end_time": "2022-03-14T18:38:06.903608Z",
     "start_time": "2022-03-14T18:38:02.972753Z"
    }
   },
   "outputs": [],
   "source": [
    "n = int(input())\n",
    "student_marks = {}\n",
    "sum_value=0\n",
    "list1=[]\n",
    "for _ in range(n):\n",
    "    line = input().split()\n",
    "    name, scores = line[0], line[1:]\n",
    "    scores = map(float, scores)\n",
    "    student_marks[name] = scores\n",
    "query_name = input()\n",
    "for key, values in student_marks.items():\n",
    "    if(key==query_name):\n",
    "        for i in values:\n",
    "            list1.append(i)\n",
    "            sum_value=sum_value+i\n",
    "\n",
    "print(format(sum_value/len(list1), \".2f\"))          "
   ]
  },
  {
   "cell_type": "markdown",
   "id": "be973153",
   "metadata": {
    "ExecuteTime": {
     "end_time": "2022-03-14T16:42:52.108186Z",
     "start_time": "2022-03-14T16:42:52.087089Z"
    }
   },
   "source": [
    "Tuple problem"
   ]
  },
  {
   "cell_type": "code",
   "execution_count": null,
   "id": "d939bfab",
   "metadata": {
    "ExecuteTime": {
     "end_time": "2022-03-14T18:38:49.826458Z",
     "start_time": "2022-03-14T18:38:09.105999Z"
    }
   },
   "outputs": [],
   "source": [
    "\n",
    "n = int(input())\n",
    "integer_list = map(int, input().split())\n",
    "tuple_values=tuple(integer_list)\n",
    "print(hash(tuple_values))"
   ]
  },
  {
   "cell_type": "markdown",
   "id": "b2bf462c",
   "metadata": {
    "ExecuteTime": {
     "end_time": "2022-03-14T16:43:06.638139Z",
     "start_time": "2022-03-14T16:43:06.617594Z"
    }
   },
   "source": [
    "list problem"
   ]
  },
  {
   "cell_type": "code",
   "execution_count": null,
   "id": "6438e217",
   "metadata": {},
   "outputs": [],
   "source": []
  }
 ],
 "metadata": {
  "kernelspec": {
   "display_name": "Python 3 (ipykernel)",
   "language": "python",
   "name": "python3"
  },
  "language_info": {
   "codemirror_mode": {
    "name": "ipython",
    "version": 3
   },
   "file_extension": ".py",
   "mimetype": "text/x-python",
   "name": "python",
   "nbconvert_exporter": "python",
   "pygments_lexer": "ipython3",
   "version": "3.9.7"
  }
 },
 "nbformat": 4,
 "nbformat_minor": 5
}
