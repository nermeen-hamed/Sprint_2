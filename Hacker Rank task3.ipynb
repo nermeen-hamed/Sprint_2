{
 "cells": [
  {
   "cell_type": "markdown",
   "id": "42e501cc",
   "metadata": {},
   "source": [
    "You are given a string and your task is to swap cases. In other words, convert all lowercase letters to uppercase letters and vice versa."
   ]
  },
  {
   "cell_type": "code",
   "execution_count": null,
   "id": "615bbd8a",
   "metadata": {
    "ExecuteTime": {
     "end_time": "2022-03-15T09:09:45.373001Z",
     "start_time": "2022-03-15T09:09:45.352636Z"
    }
   },
   "outputs": [],
   "source": [
    "import re\n",
    "def swap_case(s):\n",
    "    convert_s=''\n",
    "    string=[]\n",
    "    for i in s:\n",
    "        if(i.isupper()):\n",
    "            convert_s+=i.lower()\n",
    "        elif(i.islower()):\n",
    "            convert_s+=i.upper()\n",
    "        elif (i.isspace()) :\n",
    "            convert_s+=i\n",
    "        else:\n",
    "            convert_s+=i\n",
    "    return convert_s\n"
   ]
  },
  {
   "cell_type": "code",
   "execution_count": null,
   "id": "0cf8ebd5",
   "metadata": {
    "ExecuteTime": {
     "end_time": "2022-03-15T09:02:46.191785Z",
     "start_time": "2022-03-15T09:02:39.489303Z"
    }
   },
   "outputs": [],
   "source": [
    "s = input()\n",
    "result = swap_case(s)\n",
    "print (result)"
   ]
  },
  {
   "cell_type": "markdown",
   "id": "645ac5a5",
   "metadata": {},
   "source": [
    "In Python, a string can be split on a delimiter."
   ]
  },
  {
   "cell_type": "code",
   "execution_count": null,
   "id": "cb6afdca",
   "metadata": {
    "ExecuteTime": {
     "end_time": "2022-03-15T09:17:40.974247Z",
     "start_time": "2022-03-15T09:17:40.958050Z"
    }
   },
   "outputs": [],
   "source": [
    "def split_and_join(line):\n",
    "    line='-'.join(line.split())\n",
    "    return line"
   ]
  },
  {
   "cell_type": "code",
   "execution_count": null,
   "id": "095b1968",
   "metadata": {
    "ExecuteTime": {
     "end_time": "2022-03-15T09:18:05.017769Z",
     "start_time": "2022-03-15T09:17:54.675765Z"
    }
   },
   "outputs": [],
   "source": [
    "line = input()\n",
    "result = split_and_join(line)\n",
    "print (result)"
   ]
  },
  {
   "cell_type": "markdown",
   "id": "c389e051",
   "metadata": {},
   "source": [
    "You are given the firstname and lastname of a person on two different lines. Your task is to read them and print the following:\n",
    "\n",
    "Hello firstname lastname! You just delved into python."
   ]
  },
  {
   "cell_type": "code",
   "execution_count": null,
   "id": "d0d52b89",
   "metadata": {
    "ExecuteTime": {
     "end_time": "2022-03-15T09:35:00.702215Z",
     "start_time": "2022-03-15T09:35:00.684131Z"
    }
   },
   "outputs": [],
   "source": [
    "def print_full_name(first, last):\n",
    "    print('Hello'+str(' ') +str(first)+str(' ')+str(last)+str('!')+str(' ')+'You just delved into python.')"
   ]
  },
  {
   "cell_type": "code",
   "execution_count": null,
   "id": "f5d27ef1",
   "metadata": {
    "ExecuteTime": {
     "end_time": "2022-03-15T09:35:05.717256Z",
     "start_time": "2022-03-15T09:35:01.093672Z"
    }
   },
   "outputs": [],
   "source": [
    "first_name = input()\n",
    "last_name = input()\n",
    "print_full_name(first_name, last_name)"
   ]
  },
  {
   "cell_type": "markdown",
   "id": "a2914295",
   "metadata": {},
   "source": [
    "We have seen that lists are mutable (they can be changed), and tuples are immutable (they cannot be changed).\n",
    "\n",
    "Let's try to understand this with an example.\n",
    "\n",
    "You are given an immutable string, and you want to make changes to it."
   ]
  },
  {
   "cell_type": "code",
   "execution_count": null,
   "id": "6769df60",
   "metadata": {
    "ExecuteTime": {
     "end_time": "2022-03-15T10:03:43.034553Z",
     "start_time": "2022-03-15T10:03:43.016623Z"
    }
   },
   "outputs": [],
   "source": [
    "def mutate_string(string, position, character):\n",
    "    s=string[:position] +character+string[position+1:]   \n",
    "    return s \n"
   ]
  },
  {
   "cell_type": "code",
   "execution_count": null,
   "id": "1b924a38",
   "metadata": {
    "ExecuteTime": {
     "end_time": "2022-03-15T10:04:00.338949Z",
     "start_time": "2022-03-15T10:03:43.665665Z"
    }
   },
   "outputs": [],
   "source": [
    "s = input()\n",
    "i, c =input().split()\n",
    "s_new = mutate_string(s, int(i), c)\n",
    "print (s_new)"
   ]
  },
  {
   "cell_type": "markdown",
   "id": "8a6e8662",
   "metadata": {},
   "source": [
    "in this challenge, the user enters a string and a substring. You have to print the number of times that the substring occurs in the given string. String traversal will take place from left to right, not from right to left.\n",
    "\n",
    "NOTE: String letters are case-sensitive."
   ]
  },
  {
   "cell_type": "code",
   "execution_count": null,
   "id": "90dbf6c4",
   "metadata": {
    "ExecuteTime": {
     "end_time": "2022-03-16T04:02:48.394221Z",
     "start_time": "2022-03-16T04:02:48.376269Z"
    }
   },
   "outputs": [],
   "source": [
    "#string[start:end:step]\n",
    "def count_substring(string, sub_string):\n",
    "    count = 0\n",
    "    for i in range(len(string)-len(sub_string)+1):\n",
    "        if (string[i:i+len(sub_string)] == sub_string):\n",
    "            count += 1\n",
    "    return count"
   ]
  },
  {
   "cell_type": "code",
   "execution_count": null,
   "id": "8729f9d5",
   "metadata": {
    "ExecuteTime": {
     "end_time": "2022-03-16T04:03:01.080395Z",
     "start_time": "2022-03-16T04:02:48.919445Z"
    }
   },
   "outputs": [],
   "source": [
    "string = input().strip()\n",
    "sub_string =input().strip() \n",
    "count = count_substring(string, sub_string)\n",
    "print (count)"
   ]
  },
  {
   "cell_type": "code",
   "execution_count": null,
   "id": "c4922c3b",
   "metadata": {
    "ExecuteTime": {
     "end_time": "2022-03-16T03:58:23.271796Z",
     "start_time": "2022-03-16T03:58:23.263819Z"
    }
   },
   "outputs": [],
   "source": [
    "from re import search\n",
    "def count_substring(string, sub_string):\n",
    "    count=0\n",
    "    for i in range(len(string)-len(sub_string)+1):\n",
    "        if(search(sub_string,string)):\n",
    "            count+=1\n",
    "        else:\n",
    "            continue\n",
    "    return count"
   ]
  },
  {
   "cell_type": "code",
   "execution_count": null,
   "id": "c2dfd64c",
   "metadata": {
    "ExecuteTime": {
     "end_time": "2022-03-16T03:58:32.160848Z",
     "start_time": "2022-03-16T03:58:28.875121Z"
    }
   },
   "outputs": [],
   "source": [
    "string = input().strip()\n",
    "sub_string =input().strip() \n",
    "count = count_substring(string, sub_string)\n",
    "print (count)"
   ]
  },
  {
   "cell_type": "markdown",
   "id": "1d2600a8",
   "metadata": {},
   "source": [
    "Python has built-in string validation methods for basic data. It can check if a string is composed of alphabetical characters, alphanumeric characters, digits, etc"
   ]
  },
  {
   "cell_type": "code",
   "execution_count": null,
   "id": "8fe729de",
   "metadata": {
    "ExecuteTime": {
     "end_time": "2022-03-15T11:14:25.966445Z",
     "start_time": "2022-03-15T11:14:24.363428Z"
    }
   },
   "outputs": [],
   "source": [
    "(sub_string,i,len(sub_string))==sub_string)\n",
    "s = input()\n",
    "print(check_isalnum(s))\n",
    "print(check_isalpha(s))\n",
    "print(check_isdigit(s))\n",
    "print(check_islower(s))\n",
    "print(check_isupper(s))"
   ]
  },
  {
   "cell_type": "code",
   "execution_count": null,
   "id": "15b43049",
   "metadata": {
    "ExecuteTime": {
     "end_time": "2022-03-15T11:14:22.636279Z",
     "start_time": "2022-03-15T11:14:22.624271Z"
    }
   },
   "outputs": [],
   "source": [
    "def check_isalnum(s):\n",
    "    for i in range(len(s)):\n",
    "        if(s[i].isalnum()):\n",
    "            return (True)\n",
    "            break\n",
    "    return False"
   ]
  },
  {
   "cell_type": "code",
   "execution_count": null,
   "id": "eaa9e95e",
   "metadata": {
    "ExecuteTime": {
     "end_time": "2022-03-15T11:14:11.170219Z",
     "start_time": "2022-03-15T11:14:11.156626Z"
    }
   },
   "outputs": [],
   "source": [
    "def check_isalpha(s):\n",
    "    for i in range(len(s)):\n",
    "        if(s[i].isalpha()):\n",
    "            return (True)\n",
    "            break\n",
    "    return False"
   ]
  },
  {
   "cell_type": "code",
   "execution_count": null,
   "id": "e9121ec2",
   "metadata": {
    "ExecuteTime": {
     "end_time": "2022-03-15T11:14:11.531051Z",
     "start_time": "2022-03-15T11:14:11.517714Z"
    }
   },
   "outputs": [],
   "source": [
    "def check_isdigit(s):\n",
    "    for i in range(len(s)):\n",
    "        if(s[i].isdigit()):\n",
    "            return (True)\n",
    "            break\n",
    "    return False"
   ]
  },
  {
   "cell_type": "code",
   "execution_count": null,
   "id": "a9178047",
   "metadata": {
    "ExecuteTime": {
     "end_time": "2022-03-15T11:14:11.877689Z",
     "start_time": "2022-03-15T11:14:11.868725Z"
    }
   },
   "outputs": [],
   "source": [
    "def check_islower(s):\n",
    "    for i in range(len(s)):\n",
    "        if(s[i].islower()):\n",
    "            return (True)\n",
    "            break\n",
    "    return False"
   ]
  },
  {
   "cell_type": "code",
   "execution_count": null,
   "id": "42abd6da",
   "metadata": {
    "ExecuteTime": {
     "end_time": "2022-03-15T11:14:12.883160Z",
     "start_time": "2022-03-15T11:14:12.875766Z"
    }
   },
   "outputs": [],
   "source": [
    "def check_isupper(s):\n",
    "    for i in range(len(s)):\n",
    "        if(s[i].isupper()):\n",
    "            return (True)\n",
    "            break\n",
    "    return False"
   ]
  },
  {
   "cell_type": "markdown",
   "id": "81105b79",
   "metadata": {},
   "source": [
    "You are given a string  and width .\n",
    "Your task is to wrap the string into a paragraph of width "
   ]
  },
  {
   "cell_type": "code",
   "execution_count": null,
   "id": "c856090a",
   "metadata": {
    "ExecuteTime": {
     "end_time": "2022-03-16T04:26:04.544942Z",
     "start_time": "2022-03-16T04:26:04.538960Z"
    }
   },
   "outputs": [],
   "source": [
    "import textwrap\n",
    "\n",
    "def wrap(string, max_width):\n",
    "    s=''\n",
    "    s=textwrap.fill(text=string, width=max_width)\n",
    "    return s"
   ]
  },
  {
   "cell_type": "code",
   "execution_count": null,
   "id": "be115032",
   "metadata": {
    "ExecuteTime": {
     "end_time": "2022-03-16T04:26:08.023877Z",
     "start_time": "2022-03-16T04:26:06.058368Z"
    }
   },
   "outputs": [],
   "source": [
    "string, max_width = input(), int(input())\n",
    "result = wrap(string, max_width)\n",
    "print (result)"
   ]
  },
  {
   "cell_type": "markdown",
   "id": "204af5fb",
   "metadata": {},
   "source": [
    "Given an integer,n , print the following values for each integer  from  to :\n",
    "\n",
    "Decimal\n",
    "Octal\n",
    "Hexadecimal (capitalized)\n",
    "Binary"
   ]
  },
  {
   "cell_type": "code",
   "execution_count": null,
   "id": "734764db",
   "metadata": {
    "ExecuteTime": {
     "end_time": "2022-03-16T05:26:46.413921Z",
     "start_time": "2022-03-16T05:26:46.404946Z"
    }
   },
   "outputs": [],
   "source": [
    "def print_formatted(number):\n",
    "    l1 = len(bin(number)[2:])\n",
    "    for i in range(1,number+1):\n",
    "        print(str('  ')+str(i).rjust(l1,' ')\n",
    "              +str(oct(i).replace('0o','')).rjust(l1,' ')+str(' ')\n",
    "              +str(hex(i).replace('0x','').capitalize()).upper()+str(' ')+str(bin(i).replace('0b', '')).rjust(l1,' '))"
   ]
  },
  {
   "cell_type": "code",
   "execution_count": null,
   "id": "c1ab12a5",
   "metadata": {
    "ExecuteTime": {
     "end_time": "2022-03-16T05:26:47.727631Z",
     "start_time": "2022-03-16T05:26:46.848281Z"
    }
   },
   "outputs": [],
   "source": [
    "n=int(input())\n",
    "print_formatted(n)"
   ]
  },
  {
   "cell_type": "code",
   "execution_count": null,
   "id": "550aaf67",
   "metadata": {},
   "outputs": [],
   "source": [
    "def print_rangoli(size):\n",
    "    for i in range(size):\n",
    "        for j in range(65,i+1):"
   ]
  },
  {
   "cell_type": "markdown",
   "id": "cf865b7e",
   "metadata": {},
   "source": [
    "You are given an integer, . Your task is to print an alphabet rangoli of size . (Rangoli is a form of Indian folk art based on creation of patterns.)"
   ]
  },
  {
   "cell_type": "code",
   "execution_count": null,
   "id": "b1c9da6e",
   "metadata": {
    "ExecuteTime": {
     "end_time": "2022-03-16T06:09:49.359918Z",
     "start_time": "2022-03-16T06:09:49.350944Z"
    }
   },
   "outputs": [],
   "source": [
    "n=5\n",
    "for i in range(n):\n",
    "    for j in range(n-i-1):\n",
    "        print(' ', end='')\n",
    "    for j in range(2 * i + 1):\n",
    "        print((chr(65 + j).lower()), end='-')\n",
    "    print()"
   ]
  },
  {
   "cell_type": "code",
   "execution_count": null,
   "id": "d6853d55",
   "metadata": {},
   "outputs": [],
   "source": []
  },
  {
   "cell_type": "markdown",
   "id": "832d56a3",
   "metadata": {},
   "source": [
    "You are asked to ensure that the first and last names of people begin with a capital letter in their passports. \n",
    "For example, alison heck should be capitalised correctly as Alison Heck."
   ]
  },
  {
   "cell_type": "code",
   "execution_count": null,
   "id": "2121aa64",
   "metadata": {},
   "outputs": [],
   "source": [
    "def solve(s):\n",
    "    return s.title()"
   ]
  },
  {
   "cell_type": "code",
   "execution_count": null,
   "id": "4d91d925",
   "metadata": {
    "ExecuteTime": {
     "end_time": "2022-03-16T06:37:27.218770Z",
     "start_time": "2022-03-16T06:37:27.203777Z"
    }
   },
   "outputs": [],
   "source": [
    "import string\n",
    "name='1 2 2 3 4 5 6 7 8  9'\n",
    "string.capwords(name)"
   ]
  },
  {
   "cell_type": "code",
   "execution_count": null,
   "id": "684262cc",
   "metadata": {
    "ExecuteTime": {
     "end_time": "2022-03-16T06:45:24.211734Z",
     "start_time": "2022-03-16T06:45:24.197772Z"
    }
   },
   "outputs": [],
   "source": [
    "import string\n",
    "def solve(s):\n",
    "    words=s.split()\n",
    "    for i in words:\n",
    "        s = s.replace(i,string.capwords(i))  \n",
    "    return s"
   ]
  },
  {
   "cell_type": "code",
   "execution_count": null,
   "id": "e44968d1",
   "metadata": {
    "ExecuteTime": {
     "end_time": "2022-03-16T06:45:25.187526Z",
     "start_time": "2022-03-16T06:45:25.170356Z"
    }
   },
   "outputs": [],
   "source": [
    "name='nermeen'\n",
    "solve(name)"
   ]
  },
  {
   "cell_type": "markdown",
   "id": "978dca3c",
   "metadata": {},
   "source": [
    "Merge the tools."
   ]
  },
  {
   "cell_type": "code",
   "execution_count": 68,
   "id": "665d03c8",
   "metadata": {
    "ExecuteTime": {
     "end_time": "2022-03-16T08:32:15.086514Z",
     "start_time": "2022-03-16T08:32:15.078456Z"
    }
   },
   "outputs": [],
   "source": [
    "from collections import OrderedDict\n",
    "def merge_the_tools(string, k):\n",
    "    for i in range(0,len(string),k):\n",
    "        print(''.join(OrderedDict.fromkeys(string[i:i+k])))"
   ]
  },
  {
   "cell_type": "code",
   "execution_count": 72,
   "id": "0e92b023",
   "metadata": {
    "ExecuteTime": {
     "end_time": "2022-03-16T08:40:08.987513Z",
     "start_time": "2022-03-16T08:40:08.970914Z"
    }
   },
   "outputs": [
    {
     "name": "stdout",
     "output_type": "stream",
     "text": [
      "Ner\n",
      "me\n",
      "n\n"
     ]
    }
   ],
   "source": [
    "merge_the_tools('Nermeen', 3)"
   ]
  },
  {
   "cell_type": "code",
   "execution_count": null,
   "id": "000becec",
   "metadata": {},
   "outputs": [],
   "source": []
  },
  {
   "cell_type": "code",
   "execution_count": null,
   "id": "df23e1d5",
   "metadata": {},
   "outputs": [],
   "source": []
  }
 ],
 "metadata": {
  "kernelspec": {
   "display_name": "Python 3 (ipykernel)",
   "language": "python",
   "name": "python3"
  },
  "language_info": {
   "codemirror_mode": {
    "name": "ipython",
    "version": 3
   },
   "file_extension": ".py",
   "mimetype": "text/x-python",
   "name": "python",
   "nbconvert_exporter": "python",
   "pygments_lexer": "ipython3",
   "version": "3.9.7"
  }
 },
 "nbformat": 4,
 "nbformat_minor": 5
}
