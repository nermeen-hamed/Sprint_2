{
 "cells": [
  {
   "cell_type": "markdown",
   "id": "46dcfadd",
   "metadata": {},
   "source": [
    "Task\n",
    "\n",
    "Now, let's use our knowledge of sets and help Mickey.\n",
    "\n",
    "Ms. Gabriel Williams is a botany professor at District College. One day, she asked her student Mickey to compute the average of all the plants with distinct heights in her greenhouse.\n",
    "\n",
    "Formula used:"
   ]
  },
  {
   "cell_type": "code",
   "execution_count": null,
   "id": "512d1948",
   "metadata": {},
   "outputs": [],
   "source": []
  },
  {
   "cell_type": "code",
   "execution_count": 8,
   "id": "93d661cb",
   "metadata": {
    "ExecuteTime": {
     "end_time": "2022-03-16T11:55:32.209494Z",
     "start_time": "2022-03-16T11:55:32.195099Z"
    }
   },
   "outputs": [],
   "source": [
    "from __future__ import division\n",
    "def average(array):\n",
    "    set1=set(array)\n",
    "    avg=sum(set1)/len(set1)\n",
    "    return(\"{0:.3f}\".format(avg))"
   ]
  },
  {
   "cell_type": "code",
   "execution_count": 9,
   "id": "daac538c",
   "metadata": {
    "ExecuteTime": {
     "end_time": "2022-03-16T11:55:34.957968Z",
     "start_time": "2022-03-16T11:55:32.689095Z"
    }
   },
   "outputs": [
    {
     "name": "stdout",
     "output_type": "stream",
     "text": [
      "10\n",
      "161 182 161 154 176 170 167 171 170 174\n",
      "169.375\n"
     ]
    }
   ],
   "source": [
    "n = int(input())\n",
    "arr = map(int, input().split())\n",
    "result = average(arr)\n",
    "print (result)"
   ]
  },
  {
   "cell_type": "code",
   "execution_count": null,
   "id": "9764481e",
   "metadata": {},
   "outputs": [],
   "source": []
  },
  {
   "cell_type": "markdown",
   "id": "350bfdb5",
   "metadata": {},
   "source": [
    "Task\n",
    "Given  sets of integers,  and , print their symmetric difference in ascending order. \n",
    "The term symmetric difference indicates those values that exist in either  or  but do not exist in both."
   ]
  },
  {
   "cell_type": "code",
   "execution_count": 20,
   "id": "d310f1b3",
   "metadata": {
    "ExecuteTime": {
     "end_time": "2022-03-16T12:14:45.900888Z",
     "start_time": "2022-03-16T12:14:45.888584Z"
    }
   },
   "outputs": [],
   "source": [
    "def sym_deff(arr1,arr2):\n",
    "    set1=set(arr1)\n",
    "    set2=set(arr2)\n",
    "    return sorted(set2.symmetric_difference(set1))\n",
    "    "
   ]
  },
  {
   "cell_type": "code",
   "execution_count": 21,
   "id": "2484a7b0",
   "metadata": {
    "ExecuteTime": {
     "end_time": "2022-03-16T12:14:54.295353Z",
     "start_time": "2022-03-16T12:14:54.287330Z"
    }
   },
   "outputs": [],
   "source": [
    "def print_set(set1):\n",
    "    for i in set1:\n",
    "        print(i)"
   ]
  },
  {
   "cell_type": "code",
   "execution_count": 22,
   "id": "1a8f47f9",
   "metadata": {
    "ExecuteTime": {
     "end_time": "2022-03-16T12:15:29.477201Z",
     "start_time": "2022-03-16T12:15:11.811356Z"
    }
   },
   "outputs": [
    {
     "name": "stdout",
     "output_type": "stream",
     "text": [
      "4\n",
      "4 2 5 9\n",
      "4\n",
      "8 4 5 9\n",
      "2\n",
      "8\n"
     ]
    }
   ],
   "source": [
    "n = int(input())\n",
    "arr = map(int, input().split())\n",
    "n2=int(input())\n",
    "arr2=map(int, input().split())\n",
    "result = sym_deff(arr,arr2)\n",
    "print_set(result)\n"
   ]
  },
  {
   "cell_type": "code",
   "execution_count": null,
   "id": "d2a95914",
   "metadata": {},
   "outputs": [],
   "source": []
  },
  {
   "cell_type": "markdown",
   "id": "1dc88cdd",
   "metadata": {},
   "source": [
    "Task\n",
    "\n",
    "Apply your knowledge of the .add() operation to help your friend Rupal.\n",
    "\n",
    "Rupal has a huge collection of country stamps. She decided to count the total number of distinct country stamps in her collection. She asked for your help. You pick the stamps one by one from a stack of  country stamps.\n",
    "\n",
    "Find the total number of distinct country stamps."
   ]
  },
  {
   "cell_type": "code",
   "execution_count": 2,
   "id": "41499b79",
   "metadata": {
    "ExecuteTime": {
     "end_time": "2022-03-17T14:22:32.157375Z",
     "start_time": "2022-03-17T14:22:23.783906Z"
    }
   },
   "outputs": [
    {
     "name": "stdout",
     "output_type": "stream",
     "text": [
      "4\n",
      "dd\n",
      "rr\n",
      "tt\n",
      "tt\n",
      "3\n"
     ]
    }
   ],
   "source": [
    "set1=set()\n",
    "N=int(input())\n",
    "for i in range (N):\n",
    "    name=input()\n",
    "    set1.add(name)\n",
    "print(len(set1))"
   ]
  },
  {
   "cell_type": "code",
   "execution_count": null,
   "id": "9e4ac024",
   "metadata": {},
   "outputs": [],
   "source": [
    "pop\n",
    "remove 9\n",
    "discard 9\n",
    "discard 8\n",
    "remove 7\n",
    "pop \n",
    "discard 6\n",
    "remove 5\n",
    "pop \n",
    "discard 5"
   ]
  },
  {
   "cell_type": "markdown",
   "id": "9008d665",
   "metadata": {},
   "source": [
    "Task\n",
    "You have a non-empty set , and you have to execute  commands given in  lines.\n",
    "\n",
    "The commands will be pop, remove and discard."
   ]
  },
  {
   "cell_type": "code",
   "execution_count": 11,
   "id": "6e24c6c5",
   "metadata": {
    "ExecuteTime": {
     "end_time": "2022-03-17T15:06:47.613143Z",
     "start_time": "2022-03-17T15:05:33.753892Z"
    }
   },
   "outputs": [
    {
     "name": "stdout",
     "output_type": "stream",
     "text": [
      "9\n",
      "1 2 3 4 5 6 7 8 9\n",
      "10\n",
      "pop\n",
      "remove 9\n",
      "discard 9\n",
      "discard 8\n",
      "remove 7\n",
      "pop\n",
      "discard 6\n",
      "remove 5\n",
      "pop\n",
      "discard 5\n",
      "4\n"
     ]
    }
   ],
   "source": [
    "N=int(input())\n",
    "cites_name=set(map(int,input().split()))\n",
    "n=int(input())\n",
    "for i in range(n):\n",
    "    names=input().split()\n",
    "    if(names[0]=='remove'):\n",
    "        cites_name.remove(int(names[1]))\n",
    "    elif(names[0]=='discard'):\n",
    "        cites_name.discard(int(names[1]))\n",
    "    else:\n",
    "        cites_name.pop()\n",
    "print(sum(cites_name))\n",
    "        "
   ]
  },
  {
   "cell_type": "code",
   "execution_count": null,
   "id": "c2fc0a44",
   "metadata": {},
   "outputs": [],
   "source": []
  },
  {
   "cell_type": "code",
   "execution_count": null,
   "id": "c7ac6112",
   "metadata": {},
   "outputs": [],
   "source": []
  },
  {
   "cell_type": "code",
   "execution_count": null,
   "id": "15e3ee7f",
   "metadata": {},
   "outputs": [],
   "source": []
  }
 ],
 "metadata": {
  "kernelspec": {
   "display_name": "Python 3 (ipykernel)",
   "language": "python",
   "name": "python3"
  },
  "language_info": {
   "codemirror_mode": {
    "name": "ipython",
    "version": 3
   },
   "file_extension": ".py",
   "mimetype": "text/x-python",
   "name": "python",
   "nbconvert_exporter": "python",
   "pygments_lexer": "ipython3",
   "version": "3.9.7"
  }
 },
 "nbformat": 4,
 "nbformat_minor": 5
}
