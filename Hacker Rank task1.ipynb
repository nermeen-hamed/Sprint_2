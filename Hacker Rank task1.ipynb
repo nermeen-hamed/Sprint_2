{
 "cells": [
  {
   "cell_type": "markdown",
   "id": "9524480c",
   "metadata": {},
   "source": [
    "Hacker Rank"
   ]
  },
  {
   "cell_type": "markdown",
   "id": "03312278",
   "metadata": {},
   "source": [
    "Task1 \n",
    "    \n",
    "    1-Print (\"Hello World!\")\n",
    "    2-Python if else\n",
    "    3-Arithmatic operation\n",
    "    4-python Divison\n",
    "    5-loops\n",
    "    6-write a function\n",
    "    7-print Function"
   ]
  },
  {
   "cell_type": "code",
   "execution_count": null,
   "id": "94b06e37",
   "metadata": {},
   "outputs": [],
   "source": [
    "print('Hello World!')"
   ]
  },
  {
   "cell_type": "code",
   "execution_count": 6,
   "id": "cab1c485",
   "metadata": {
    "ExecuteTime": {
     "end_time": "2022-03-13T19:41:42.941212Z",
     "start_time": "2022-03-13T19:41:40.544743Z"
    }
   },
   "outputs": [
    {
     "name": "stdout",
     "output_type": "stream",
     "text": [
      "6\n",
      "Weird\n"
     ]
    }
   ],
   "source": [
    "n=int(input())\n",
    "if(n%2==0):\n",
    "    if(n>=2 and n<=5):\n",
    "        print ('Not Weird')\n",
    "    elif(n>=6and n<=20):\n",
    "        print('Weird')\n",
    "    elif(n>20):\n",
    "        print('Not Weird')\n",
    "else: \n",
    "    print('Weird')"
   ]
  },
  {
   "cell_type": "code",
   "execution_count": 8,
   "id": "a412a05a",
   "metadata": {
    "ExecuteTime": {
     "end_time": "2022-03-13T19:44:43.723294Z",
     "start_time": "2022-03-13T19:44:39.177621Z"
    }
   },
   "outputs": [
    {
     "name": "stdout",
     "output_type": "stream",
     "text": [
      "2\n",
      "2\n",
      "4\n",
      "0\n",
      "4\n"
     ]
    }
   ],
   "source": [
    "a = int(input())\n",
    "b = int(input())\n",
    "print(a+b)\n",
    "print(a-b)\n",
    "print(a*b)"
   ]
  },
  {
   "cell_type": "code",
   "execution_count": 9,
   "id": "4b057a15",
   "metadata": {
    "ExecuteTime": {
     "end_time": "2022-03-13T19:48:36.957235Z",
     "start_time": "2022-03-13T19:48:31.896464Z"
    }
   },
   "outputs": [
    {
     "name": "stdout",
     "output_type": "stream",
     "text": [
      "2\n",
      "2\n",
      "1\n",
      "1.0\n"
     ]
    }
   ],
   "source": [
    "a = int(input())\n",
    "b = int(input())\n",
    "\n",
    "print(int(a//b))\n",
    "print(float(a/b))"
   ]
  },
  {
   "cell_type": "code",
   "execution_count": null,
   "id": "20b0dea4",
   "metadata": {},
   "outputs": [],
   "source": [
    "n=int(input())\n",
    "for i in range(n):\n",
    "    print(i**2)"
   ]
  },
  {
   "cell_type": "code",
   "execution_count": 25,
   "id": "8da68bce",
   "metadata": {
    "ExecuteTime": {
     "end_time": "2022-03-13T20:07:03.352962Z",
     "start_time": "2022-03-13T20:07:03.347352Z"
    }
   },
   "outputs": [],
   "source": [
    "def identify_year(y):\n",
    "    if(y%4==0):\n",
    "        if((y%100!=0)or(y%400==0)):\n",
    "            print(True)\n",
    "    else:\n",
    "        print(False)"
   ]
  },
  {
   "cell_type": "code",
   "execution_count": 28,
   "id": "7f3ee0bd",
   "metadata": {
    "ExecuteTime": {
     "end_time": "2022-03-13T20:07:10.609661Z",
     "start_time": "2022-03-13T20:07:10.598992Z"
    }
   },
   "outputs": [],
   "source": [
    "identify_year(1700)"
   ]
  },
  {
   "cell_type": "code",
   "execution_count": 32,
   "id": "ac2656b4",
   "metadata": {
    "ExecuteTime": {
     "end_time": "2022-03-13T20:16:56.164126Z",
     "start_time": "2022-03-13T20:16:55.020903Z"
    }
   },
   "outputs": [
    {
     "name": "stdout",
     "output_type": "stream",
     "text": [
      "5\n",
      "12345"
     ]
    }
   ],
   "source": [
    "n = int(input())\n",
    "for i in range(1,n+1):\n",
    "    print(i,end='')"
   ]
  },
  {
   "cell_type": "code",
   "execution_count": null,
   "id": "da44bc5b",
   "metadata": {},
   "outputs": [],
   "source": []
  }
 ],
 "metadata": {
  "kernelspec": {
   "display_name": "Python 3 (ipykernel)",
   "language": "python",
   "name": "python3"
  },
  "language_info": {
   "codemirror_mode": {
    "name": "ipython",
    "version": 3
   },
   "file_extension": ".py",
   "mimetype": "text/x-python",
   "name": "python",
   "nbconvert_exporter": "python",
   "pygments_lexer": "ipython3",
   "version": "3.9.7"
  }
 },
 "nbformat": 4,
 "nbformat_minor": 5
}
